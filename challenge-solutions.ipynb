{
 "cells": [
  {
   "cell_type": "markdown",
   "metadata": {},
   "source": [
    "## **60-Day Python Code Python Challenge**\n",
    "\n",
    "| Day | Challenge | Link |\n",
    "|-----|-----------|------|\n",
    "| Day 1 | Create a program that swaps the value of two variables. | [Link](#day-1) |\n",
    "| Day 2 | Create a program to calculate the area of a circle given its radius. | [Link](#day-2) |"
   ]
  },
  {
   "cell_type": "markdown",
   "metadata": {},
   "source": [
    "#### **Day 1**<a id=day-1></a>\n",
    "\n",
    "Challenge: Create a program that swaps the value of two variables."
   ]
  },
  {
   "cell_type": "code",
   "execution_count": 4,
   "metadata": {},
   "outputs": [
    {
     "name": "stdout",
     "output_type": "stream",
     "text": [
      "x: 10\n",
      "y: 3\n",
      "\n",
      "x_new: 3\n",
      "y_new: 10\n"
     ]
    }
   ],
   "source": [
    "# With a temp variable\n",
    "def swap(x, y):\n",
    "    x_old = x\n",
    "    y_old = y\n",
    "    x = y_old\n",
    "    y = x_old \n",
    "    \n",
    "    return x, y\n",
    "\n",
    "# Test\n",
    "x = 10\n",
    "y = 3\n",
    "\n",
    "print(f'x: {x}')\n",
    "print(f'y: {y}')\n",
    "print()\n",
    "\n",
    "x_new, y_new = swap(x, y)\n",
    "\n",
    "print(f'x_new: {x_new}')\n",
    "print(f'y_new: {y_new}')"
   ]
  },
  {
   "cell_type": "code",
   "execution_count": 3,
   "metadata": {},
   "outputs": [
    {
     "name": "stdout",
     "output_type": "stream",
     "text": [
      "x: 10\n",
      "y: 3\n",
      "\n",
      "x_new: 3\n",
      "y_new: 10\n"
     ]
    }
   ],
   "source": [
    "# Without a temp variable\n",
    "def no_temp(x, y):\n",
    "    (y, x) = (x, y)\n",
    "    \n",
    "    return x, y\n",
    "\n",
    "# Test\n",
    "x = 10\n",
    "y = 3\n",
    "\n",
    "print(f'x: {x}')\n",
    "print(f'y: {y}')\n",
    "print()\n",
    "\n",
    "x_new, y_new = no_temp(x, y)\n",
    "\n",
    "print(f'x_new: {x_new}')\n",
    "print(f'y_new: {y_new}')"
   ]
  },
  {
   "cell_type": "markdown",
   "metadata": {},
   "source": [
    "#### **Day 2**<a id='day-2'></a>\n",
    "\n",
    "Challenge: Create a program to calculate the area of a circle given its radius."
   ]
  },
  {
   "cell_type": "code",
   "execution_count": 8,
   "metadata": {},
   "outputs": [
    {
     "name": "stdout",
     "output_type": "stream",
     "text": [
      "Radius: 10\n",
      "Area: 314.16\n"
     ]
    }
   ],
   "source": [
    "import math\n",
    "\n",
    "def area(r):\n",
    "    '''Calculates the area of a circle given its radius.\n",
    "    \n",
    "    r: radius of a circle'''\n",
    "    return math.pi * r ** 2\n",
    "\n",
    "r = 10\n",
    "\n",
    "circle_area = area(r)\n",
    "\n",
    "print(f'Radius: {r}')\n",
    "print(f'Area: {circle_area:.2f}')"
   ]
  }
 ],
 "metadata": {
  "kernelspec": {
   "display_name": "base",
   "language": "python",
   "name": "python3"
  },
  "language_info": {
   "codemirror_mode": {
    "name": "ipython",
    "version": 3
   },
   "file_extension": ".py",
   "mimetype": "text/x-python",
   "name": "python",
   "nbconvert_exporter": "python",
   "pygments_lexer": "ipython3",
   "version": "3.10.9"
  }
 },
 "nbformat": 4,
 "nbformat_minor": 2
}
