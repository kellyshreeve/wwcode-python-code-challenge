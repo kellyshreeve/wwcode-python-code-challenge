{
 "cells": [
  {
   "cell_type": "markdown",
   "metadata": {},
   "source": [
    "## **60-Day Python Code Python Challenge**\n",
    "\n",
    "| Day | Challenge | Link |\n",
    "|-----|-----------|------|\n",
    "| 1 | Create a program that swaps the value of two variables. | [Link](#day-1) |\n",
    "| 2 | Create a program to calculate the area of a circle given its radius. | [Link](#day-2) |\n",
    "| 3 | Create a program to count the number of vowels in a given string | [Link](#day-3) |"
   ]
  },
  {
   "cell_type": "markdown",
   "metadata": {},
   "source": [
    "#### **Day 1**<a id=day-1></a>\n",
    "\n",
    "Challenge: Create a program that swaps the value of two variables."
   ]
  },
  {
   "cell_type": "code",
   "execution_count": 4,
   "metadata": {},
   "outputs": [
    {
     "name": "stdout",
     "output_type": "stream",
     "text": [
      "x: 10\n",
      "y: 3\n",
      "\n",
      "x_new: 3\n",
      "y_new: 10\n"
     ]
    }
   ],
   "source": [
    "# With a temp variable\n",
    "def swap(x, y):\n",
    "    x_old = x\n",
    "    y_old = y\n",
    "    x = y_old\n",
    "    y = x_old \n",
    "    \n",
    "    return x, y\n",
    "\n",
    "# Test\n",
    "x = 10\n",
    "y = 3\n",
    "\n",
    "print(f'x: {x}')\n",
    "print(f'y: {y}')\n",
    "print()\n",
    "\n",
    "x_new, y_new = swap(x, y)\n",
    "\n",
    "print(f'x_new: {x_new}')\n",
    "print(f'y_new: {y_new}')"
   ]
  },
  {
   "cell_type": "code",
   "execution_count": 3,
   "metadata": {},
   "outputs": [
    {
     "name": "stdout",
     "output_type": "stream",
     "text": [
      "x: 10\n",
      "y: 3\n",
      "\n",
      "x_new: 3\n",
      "y_new: 10\n"
     ]
    }
   ],
   "source": [
    "# Without a temp variable\n",
    "def no_temp(x, y):\n",
    "    (y, x) = (x, y)\n",
    "    \n",
    "    return x, y\n",
    "\n",
    "# Test\n",
    "x = 10\n",
    "y = 3\n",
    "\n",
    "print(f'x: {x}')\n",
    "print(f'y: {y}')\n",
    "print()\n",
    "\n",
    "x_new, y_new = no_temp(x, y)\n",
    "\n",
    "print(f'x_new: {x_new}')\n",
    "print(f'y_new: {y_new}')"
   ]
  },
  {
   "cell_type": "markdown",
   "metadata": {},
   "source": [
    "#### **Day 2**<a id='day-2'></a>\n",
    "\n",
    "Challenge: Create a program to calculate the area of a circle given its radius."
   ]
  },
  {
   "cell_type": "code",
   "execution_count": 8,
   "metadata": {},
   "outputs": [
    {
     "name": "stdout",
     "output_type": "stream",
     "text": [
      "Radius: 10\n",
      "Area: 314.16\n"
     ]
    }
   ],
   "source": [
    "import math\n",
    "\n",
    "def area(r):\n",
    "    '''Calculates the area of a circle given its radius.\n",
    "    \n",
    "    r: radius of a circle'''\n",
    "    return math.pi * r ** 2\n",
    "\n",
    "r = 10\n",
    "\n",
    "circle_area = area(r)\n",
    "\n",
    "print(f'Radius: {r}')\n",
    "print(f'Area: {circle_area:.2f}')"
   ]
  },
  {
   "cell_type": "markdown",
   "metadata": {},
   "source": [
    "### **Day 3**<a id='day-3'></a>\n",
    "\n",
    "Create a program to count the number of values in a given string"
   ]
  },
  {
   "cell_type": "code",
   "execution_count": 13,
   "metadata": {},
   "outputs": [
    {
     "name": "stdout",
     "output_type": "stream",
     "text": [
      "The number of vowels in 'hello' is 2.\n",
      "The number of vowels in 'python code challenge' is 6.\n"
     ]
    }
   ],
   "source": [
    "# Function\n",
    "def count_vowels(str):\n",
    "    '''Counts the number of vowels (a, e, i, o, u) in a given string. \n",
    "    \n",
    "    str: Python string object'''\n",
    "    text = str.lower()\n",
    "    vowels = 0\n",
    "    for t in text:\n",
    "        if t in ('aeiou'):\n",
    "            vowels += 1\n",
    "        else:\n",
    "            continue\n",
    "    return vowels\n",
    "\n",
    "# Test\n",
    "word = 'hello'\n",
    "num_vowels = count_vowels(word)\n",
    "\n",
    "sentence = 'python code challenge'\n",
    "num_vowels_sent = count_vowels(sentence)\n",
    "\n",
    "print(f\"The number of vowels in '{word}' is {num_vowels}.\")\n",
    "print(f\"The number of vowels in '{sentence}' is {num_vowels_sent}.\")"
   ]
  }
 ],
 "metadata": {
  "kernelspec": {
   "display_name": "base",
   "language": "python",
   "name": "python3"
  },
  "language_info": {
   "codemirror_mode": {
    "name": "ipython",
    "version": 3
   },
   "file_extension": ".py",
   "mimetype": "text/x-python",
   "name": "python",
   "nbconvert_exporter": "python",
   "pygments_lexer": "ipython3",
   "version": "3.10.9"
  }
 },
 "nbformat": 4,
 "nbformat_minor": 2
}
