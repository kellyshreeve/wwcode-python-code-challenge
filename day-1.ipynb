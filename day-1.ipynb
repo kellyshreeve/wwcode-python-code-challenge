{
 "cells": [
  {
   "cell_type": "markdown",
   "metadata": {},
   "source": [
    "### **Day 1**\n",
    "\n",
    "Challenge: Create a program that swaps the value of two variables."
   ]
  },
  {
   "cell_type": "code",
   "execution_count": 4,
   "metadata": {},
   "outputs": [
    {
     "name": "stdout",
     "output_type": "stream",
     "text": [
      "x: 10\n",
      "y: 3\n",
      "\n",
      "x_new: 3\n",
      "y_new: 10\n"
     ]
    }
   ],
   "source": [
    "# With a temp variable\n",
    "def swap(x, y):\n",
    "    x_old = x\n",
    "    y_old = y\n",
    "    x = y_old\n",
    "    y = x_old \n",
    "    \n",
    "    return x, y\n",
    "\n",
    "# Test\n",
    "x = 10\n",
    "y = 3\n",
    "\n",
    "print(f'x: {x}')\n",
    "print(f'y: {y}')\n",
    "print()\n",
    "\n",
    "x_new, y_new = swap(x, y)\n",
    "\n",
    "print(f'x_new: {x_new}')\n",
    "print(f'y_new: {y_new}')"
   ]
  },
  {
   "cell_type": "code",
   "execution_count": 3,
   "metadata": {},
   "outputs": [
    {
     "name": "stdout",
     "output_type": "stream",
     "text": [
      "x: 10\n",
      "y: 3\n",
      "\n",
      "x_new: 3\n",
      "y_new: 10\n"
     ]
    }
   ],
   "source": [
    "# Without a temp variable\n",
    "def no_temp(x, y):\n",
    "    (y, x) = (x, y)\n",
    "    \n",
    "    return x, y\n",
    "\n",
    "# Test\n",
    "x = 10\n",
    "y = 3\n",
    "\n",
    "print(f'x: {x}')\n",
    "print(f'y: {y}')\n",
    "print()\n",
    "\n",
    "x_new, y_new = no_temp(x, y)\n",
    "\n",
    "print(f'x_new: {x_new}')\n",
    "print(f'y_new: {y_new}')"
   ]
  }
 ],
 "metadata": {
  "kernelspec": {
   "display_name": "base",
   "language": "python",
   "name": "python3"
  },
  "language_info": {
   "codemirror_mode": {
    "name": "ipython",
    "version": 3
   },
   "file_extension": ".py",
   "mimetype": "text/x-python",
   "name": "python",
   "nbconvert_exporter": "python",
   "pygments_lexer": "ipython3",
   "version": "3.10.9"
  }
 },
 "nbformat": 4,
 "nbformat_minor": 2
}
